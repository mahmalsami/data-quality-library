{
 "cells": [
  {
   "cell_type": "markdown",
   "metadata": {
    "application/vnd.databricks.v1+cell": {
     "cellMetadata": {
      "byteLimit": 2048000,
      "rowLimit": 10000
     },
     "inputWidgets": {},
     "nuid": "0378017e-55a2-4c91-9c50-398d7c0a856a",
     "showTitle": false,
     "title": ""
    }
   },
   "source": [
    "####1.Load Business Rules Conf file (NO NEED TO UPDATE)"
   ]
  },
  {
   "cell_type": "code",
   "execution_count": null,
   "metadata": {
    "application/vnd.databricks.v1+cell": {
     "cellMetadata": {
      "byteLimit": 2048000,
      "rowLimit": 10000
     },
     "inputWidgets": {},
     "nuid": "0646bb56-c9a6-4465-b4c2-82fc237c8ee2",
     "showTitle": false,
     "title": ""
    }
   },
   "outputs": [],
   "source": [
    "import pandas as pd\n",
    "import json\n",
    "import re\n",
    "from datetime import datetime\n",
    "\n",
    "# JSON configuration with uniqueness\n",
    "json_config_with_uniqueness = \"\"\"\n",
    "{\n",
    "    \"input_columns\": [\"Entity\", \"Policy_ID\", \"NRIC\", \"Holder_Name\", \"Holder_Age\", \"Holder_Sex\",\"Holder_Marital_Status\",\"PostCode\", \"Vehicle_Age\", \"Email_Address\", \"Policy_Start_Date\", \"Policy_Status\", \"Mobile_Numbers\"],\n",
    "\n",
    "    \"generic_rule_library\": {\n",
    "        \"text\": {\"standard\": {\"complete\": true,\"regex\": \"^[a-zA-Z ,.'-/]+$\"}},\n",
    "        \"email\": {\"standard\": {\"complete\": true,\"regex\": \"^[a-zA-Z0-9._%+-]+@[a-zA-Z0-9.-]+\\\\\\\\.[a-zA-Z]{2,}$\"}},\n",
    "        \"date\": {\"formats\": [\"%Y-%m-%d\", \"%d/%m/%Y\", \"%m-%d-%Y\"]},\n",
    "        \"integer\": {\n",
    "\t\t\"age\": {\"type\": \"integer\",\"min\": 18,\"max\": 99},\n",
    "\t\t\"vehicle_age\": {\"type\": \"integer\",\"min\": 0,\"max\": 20}},\n",
    "        \"enum\": {\n",
    "\t\t\"policy_status_variant_1\": {\"complete\": true,\"values\": [\"Active\", \"Cancelled\", \"Expired\", \"Suspended\"]},\n",
    "        \"policy_status_variant_2\": {\"complete\": true,\"values\": [\"Under Review\", \"Pending\", \"Approved\", \"Denied\"]},\n",
    "        \"policy_status_my_LIFT\": {\"complete\": true,\"values\": [\"B\",\"E\",\"H\",\"I\",\"N\",\"P\",\"Q\",\"R\",\"U\",\"W\",\"Y\",\"Z\",\"A\",\"C\",\"D\",\"F\",\"G\",\"J\",\"K\",\"L\",\"M\",\"S\",\"T\",\"V\",\"X\"]}},\n",
    "        \"policy_id\": {\n",
    "        \"variant_1\": {\"complete\": true,\"regex\": \"^POL\\\\\\\\d{4}$\"},\n",
    "\t\t\"variant_2\": {\"complete\": true,\"regex\": \"^INS\\\\\\\\d{6}$\"},\n",
    "        \"variant_3\": {\"complete\": true,\"regex\": \"^(\\\\\\\\d{10})|([A-Z]\\\\\\\\d{9})$\"}},\n",
    "    \"entity\": {\n",
    "\t\t\"variant_1\": {\"complete\": true,\"values\": [\"ZI\",\"ZT\",\"ZL\",\"ZF\"]},\n",
    "\t\t\"variant_2\": {\"complete\": true,\"values\": [\"GI\",\"GT\",\"LI\",\"FT\"]},\n",
    "\t\t\"variant_3\": {\"complete\": true,\"values\": [\"ZGIMB\",\"ZGTMB\",\"ZLIMB\",\"ZTMB\"]}},\n",
    "    \"mobile_phone\": {\n",
    "\t\t\"variant_my\": {\"complete\": true, \"regex\": \"^\\\\\\\\d{10,11,12}$\"}},\n",
    "    \"national_identity\": {\"variant_my_new_nric\": {\"complete\": true, \"regex\": \"^(\\\\\\\\d{12}$)|(\\\\\\\\d{6}-\\\\\\\\d{2}-\\\\\\\\d{4}$)\"}},\n",
    "    \"sex\": {\"standard\": {\"complete\": true,\"values\": [\"M\",\"F\",\"MALE\",\"FEMALE\"]}},\n",
    "    \"postcode\": {\"variant_my\": {\"complete\": true, \"regex\": \"^\\\\\\\\d{5}$\"}}\n",
    "\n",
    "},\n",
    "\n",
    "\"column_ruleset\": {\n",
    "        \"Entity\": \"entity.variant_3\",\n",
    "        \"PostCode\": \"postcode.variant_my\",\n",
    "        \"Policy_ID\": {\"rule\": \"policy_id.variant_3\",\"unique\": true},\n",
    "        \"NRIC\": {\"rule\": \"national_identity.variant_my_new_nric\",\"unique\": true},\n",
    "        \"Holder_Name\": \"text.standard\",\n",
    "        \"Holder_Age\": \"integer.age\",\n",
    "        \"Holder_Sex\": \"sex.standard\",\n",
    "        \"Holder_Marital_Status\": \"text.standard\",\n",
    "        \"Vehicle_Age\": \"integer.vehicle_age\",\n",
    "        \"Email_Address\": {\"rule\": \"email.standard\", \"unique\": true},\n",
    "        \"Policy_Start_Date\": {\"complete\": true, \"formats\": \"date.formats\"},\n",
    "        \"Policy_Status\": \"enum.policy_status_my_LIFT\"},\n",
    "        \"Mobile_Numbers\": {\"rule\": \"mobile_phone.variant_my\",\"unique\": true}\n",
    "}\n",
    "\"\"\"\n",
    "\n",
    "# Parse the updated JSON configuration\n",
    "config_with_uniqueness = json.loads(json_config_with_uniqueness)\n"
   ]
  },
  {
   "cell_type": "markdown",
   "metadata": {
    "application/vnd.databricks.v1+cell": {
     "cellMetadata": {
      "byteLimit": 2048000,
      "rowLimit": 10000
     },
     "inputWidgets": {},
     "nuid": "e6120db4-eb00-47c4-a6b0-261304f5e6ef",
     "showTitle": false,
     "title": ""
    }
   },
   "source": [
    "####2.Load DQ functions"
   ]
  },
  {
   "cell_type": "code",
   "execution_count": null,
   "metadata": {
    "application/vnd.databricks.v1+cell": {
     "cellMetadata": {
      "byteLimit": 2048000,
      "rowLimit": 10000
     },
     "inputWidgets": {},
     "nuid": "bc864e10-c6db-4035-995d-5f97d6c859ac",
     "showTitle": false,
     "title": ""
    }
   },
   "outputs": [],
   "source": [
    "\n",
    "# Parse the updated JSON configuration\n",
    "config_with_uniqueness = json.loads(json_config_with_uniqueness)\n",
    "\n",
    "# Define the functions for DQ checks\n",
    "def check_completeness(value, rules):\n",
    "    if not rules.get('complete', False):\n",
    "        return True\n",
    "    return not pd.isnull(value) and value != \"\"\n",
    "\n",
    "def check_validity(value, rules):\n",
    "    if pd.isnull(value) or value == \"\":\n",
    "        return False\n",
    "    if 'regex' in rules and not re.match(rules['regex'], str(value)):\n",
    "        return False\n",
    "    if 'type' in rules and rules['type'] == 'integer':\n",
    "        try:\n",
    "            int_value = int(value)\n",
    "            if 'min' in rules and int_value < rules['min']:\n",
    "                return False\n",
    "            if 'max' in rules and int_value > rules['max']:\n",
    "                return False\n",
    "        except ValueError:\n",
    "            return False\n",
    "    if 'values' in rules and value not in rules['values']:\n",
    "        return False\n",
    "    if 'formats' in rules:\n",
    "        date_valid = False\n",
    "        for date_format in rules['formats']:\n",
    "            try:\n",
    "                datetime.strptime(value, date_format)\n",
    "                date_valid = True\n",
    "                break\n",
    "            except ValueError:\n",
    "                continue\n",
    "        if not date_valid:\n",
    "            return False\n",
    "    return True\n",
    "\n",
    "def check_accuracy(value, rules):\n",
    "    return True\n",
    "\n",
    "def check_uniqueness(df, field, unique_required):\n",
    "    if not unique_required:\n",
    "        return pd.Series([True] * len(df), index=df.index)\n",
    "    else:\n",
    "        return ~df.duplicated(subset=[field])\n",
    "\n",
    "def get_rules_for_field(field_rule, generic_rule_library):\n",
    "    if isinstance(field_rule, dict) and 'rule' in field_rule:\n",
    "        field_rule = field_rule['rule']\n",
    "    if isinstance(field_rule, str) and \".\" in field_rule:\n",
    "        library, rule = field_rule.split(\".\")\n",
    "        return generic_rule_library[library][rule]\n",
    "    else:\n",
    "        return generic_rule_library.get(field_rule, {})\n",
    "\n",
    "def calculate_data_quality_metrics(df, dq_flags):\n",
    "    dq_metrics = {}\n",
    "    for field, (comp, valid, acc, uniq) in dq_flags.items():\n",
    "        completeness = df[comp].mean() * 100\n",
    "        validity = df[valid].mean() * 100\n",
    "        accuracy = df[acc].mean() * 100\n",
    "        uniqueness = df[uniq].mean() * 100 if uniq in df.columns else 100\n",
    "        data_quality = completeness * validity * accuracy * uniqueness / 1000000\n",
    "        dq_metrics[field] = {\n",
    "            \"Completeness\": f\"{completeness:.2f}%\",\n",
    "            \"Validity\": f\"{validity:.2f}%\",\n",
    "            \"Accuracy\": f\"{accuracy:.2f}%\",\n",
    "            \"Uniqueness\": f\"{uniqueness:.2f}%\",\n",
    "            \"Data Quality\": f\"{data_quality:.2f}%\"\n",
    "        }\n",
    "    return dq_metrics\n",
    "\n",
    "def calculate_data_quality(df, config):\n",
    "    dq_flags = {}\n",
    "    column_ruleset = config['column_ruleset']\n",
    "    generic_rule_library = config['generic_rule_library']\n",
    "\n",
    "    for field in config['input_columns']:\n",
    "        rule_entry = column_ruleset.get(field, {})\n",
    "        if isinstance(rule_entry, str):\n",
    "            rule_entry = {'rule': rule_entry}\n",
    "        rules = get_rules_for_field(rule_entry.get('rule'), generic_rule_library)\n",
    "\n",
    "        completeness_col = f\"{field}__Completeness\"\n",
    "        validity_col = f\"{field}__Validity\"\n",
    "        accuracy_col = f\"{field}__Accuracy\"\n",
    "        uniqueness_col = f\"{field}__Uniqueness\"\n",
    "\n",
    "        df[completeness_col] = df[field].apply(lambda x: check_completeness(x, rules))\n",
    "        df[validity_col] = df[field].apply(lambda x: check_validity(x, rules))\n",
    "        df[accuracy_col] = df[field].apply(lambda x: check_accuracy(x, rules))\n",
    "        df[uniqueness_col] = check_uniqueness(df, field, rule_entry.get('unique', False))\n",
    "\n",
    "        dq_flags[field] = (completeness_col, validity_col, accuracy_col, uniqueness_col)\n",
    "\n",
    "    dq_metrics = calculate_data_quality_metrics(df, dq_flags)\n",
    "    dq_summary = pd.DataFrame.from_dict(dq_metrics, orient='index')\n",
    "\n",
    "    return df, dq_summary\n",
    "\n"
   ]
  }
 ],
 "metadata": {
  "application/vnd.databricks.v1+notebook": {
   "dashboards": [],
   "language": "python",
   "notebookMetadata": {
    "pythonIndentUnit": 4
   },
   "notebookName": "_dq-library",
   "widgets": {}
  },
  "language_info": {
   "name": "python"
  }
 },
 "nbformat": 4,
 "nbformat_minor": 0
}
