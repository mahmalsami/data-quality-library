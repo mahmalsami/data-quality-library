{
 "cells": [
  {
   "cell_type": "code",
   "execution_count": 0,
   "metadata": {
    "application/vnd.databricks.v1+cell": {
     "cellMetadata": {},
     "inputWidgets": {},
     "nuid": "7aaf928a-6b1c-49cd-b0a5-c201bf3f751e",
     "showTitle": false,
     "title": ""
    }
   },
   "outputs": [],
   "source": [
    "%run \"./_dq-library\"\n"
   ]
  },
  {
   "cell_type": "code",
   "execution_count": 0,
   "metadata": {
    "application/vnd.databricks.v1+cell": {
     "cellMetadata": {
      "byteLimit": 2048000,
      "rowLimit": 10000
     },
     "inputWidgets": {},
     "nuid": "43d58ef0-c288-48a0-ae61-ed6333eed633",
     "showTitle": false,
     "title": ""
    }
   },
   "outputs": [],
   "source": [
    "import numpy as np\n",
    "from datetime import datetime\n",
    "import pandas as pd\n",
    "\n",
    "\n",
    "\n",
    "# Set the randomness seed for reproducibility\n",
    "np.random.seed(0)\n",
    "\n",
    "# Function to generate a random name, with a chance for invalid names\n",
    "def random_name(validity_chance=0.8):\n",
    "    first_names = [\"James\", \"Mary\", \"John\", \"Patricia\", \"Robert\", \"Jennifer\", \"\", \"1234\", \"Invalid_Name\"]\n",
    "    last_names = [\"Smith\", \"Johnson\", \"Williams\", \"Brown\", \"Jones\", \"Garcia\", \"!\", \"@@@@\", \"\"]\n",
    "    if np.random.random() < validity_chance:\n",
    "        return f\"{np.random.choice(first_names[:6])} {np.random.choice(last_names[:6])}\"\n",
    "    else:\n",
    "        return f\"{np.random.choice(first_names[6:])} {np.random.choice(last_names[6:])}\"\n",
    "\n",
    "# Function to generate a random email address, with a chance for invalid emails\n",
    "def random_email(validity_chance=0.8):\n",
    "    domains = [\"example.com\", \"test.com\", \"demo.com\", \"invalid_domain\", \"\"]\n",
    "    prefix = \"\".join(np.random.choice(list(\"abcdefghijklmnopqrstuvwxyz\"), size=np.random.randint(5, 10)))\n",
    "    if np.random.random() < validity_chance:\n",
    "        return f\"{prefix}@{np.random.choice(domains[:3])}\"\n",
    "    else:\n",
    "        return f\"{prefix}{np.random.choice(domains[3:])}\"\n",
    "\n",
    "# Function to generate a random date with multiple formats, with a chance for invalid dates\n",
    "def random_date(validity_chance=0.8):\n",
    "    formats = [\"%Y-%m-%d\", \"%d/%m/%Y\", \"%m-%d-%Y\", \"invalid_date_format\"]\n",
    "    chosen_format = np.random.choice(formats[:-1]) if np.random.random() < validity_chance else formats[-1]\n",
    "    date = datetime.now() + pd.Timedelta(days=np.random.randint(1, 365))\n",
    "    return date.strftime(chosen_format) if chosen_format != \"invalid_date_format\" else \"invalid_date\"\n",
    "\n",
    "# Function to generate a random policy status, with a chance for invalid statuses\n",
    "def random_policy_status(validity_chance=0.8):\n",
    "    statuses = [\"Active\", \"Cancelled\", \"Expired\", \"Suspended\", \"Invalid_Status\"]\n",
    "    return np.random.choice(statuses[:4]) if np.random.random() < validity_chance else statuses[-1]\n",
    "\n",
    "# Function to generate a random product code, with a chance for invalid codes\n",
    "def random_product_code(validity_chance=0.8):\n",
    "    if np.random.random() < validity_chance:\n",
    "        return f\"{np.random.choice(['A', 'B', 'C'])}{np.random.randint(100, 999)}\"\n",
    "    else:\n",
    "        return f\"{np.random.choice(['A', 'B', 'C'])}{np.random.randint(1000, 9999)}\"\n",
    "\n",
    "# Function to generate random data for df_policies\n",
    "def generate_random_policies(num_records, validity_chance=0.8):\n",
    "    policy_data = {\n",
    "        \"Policy_ID\": [f\"POL{np.random.randint(1000, 9999)}\" if np.random.random() < validity_chance else f\"INVALID{np.random.randint(1000, 9999)}\" for _ in range(num_records)],\n",
    "        \"Holder_Name\": [random_name(validity_chance) for _ in range(num_records)],\n",
    "        \"Holder_Age\": [np.random.randint(18, 100) if np.random.random() < validity_chance else np.random.randint(100, 150) for _ in range(num_records)],\n",
    "        \"Email_Address\": [random_email(validity_chance) for _ in range(num_records)],\n",
    "        \"Policy_Start_Date\": [random_date(validity_chance) for _ in range(num_records)],\n",
    "        \"Policy_Status\": [random_policy_status(validity_chance) for _ in range(num_records)],\n",
    "        \"Premium_Amount_IDR\": [np.random.randint(10000, 1000000) if np.random.random() < validity_chance else np.random.randint(1, 9999) for _ in range(num_records)],\n",
    "        \"Product_Code\": [random_product_code(validity_chance) for _ in range(num_records)],\n",
    "        \"Commission_Percent\": [np.random.random() * 100 if np.random.random() < validity_chance else np.random.random() * 200 for _ in range(num_records)],\n",
    "        \"Vehicle_Age\": [np.random.randint(0, 30) if np.random.random() < validity_chance else np.random.randint(30, 50) for _ in range(num_records)]\n",
    "    }\n",
    "\n",
    "    return pd.DataFrame(policy_data)\n",
    "\n",
    "# Generate a random df_policies dataframe with 10 records for demonstration\n",
    "random_df_policies = generate_random_policies(10)\n",
    "\n",
    "df_policies = random_df_policies\n"
   ]
  },
  {
   "cell_type": "markdown",
   "metadata": {
    "application/vnd.databricks.v1+cell": {
     "cellMetadata": {},
     "inputWidgets": {},
     "nuid": "2d2e96ed-687a-439d-bef9-830f7dc79387",
     "showTitle": false,
     "title": ""
    }
   },
   "source": [
    "# \n",
    "# /!\\ /!\\  NO UPDATES BEYOND THIS POINT   /!\\ /!\\\n",
    "# "
   ]
  },
  {
   "cell_type": "code",
   "execution_count": 0,
   "metadata": {
    "application/vnd.databricks.v1+cell": {
     "cellMetadata": {
      "byteLimit": 2048000,
      "rowLimit": 10000
     },
     "inputWidgets": {},
     "nuid": "258b9660-1af1-4711-a0d5-35324e78b200",
     "showTitle": false,
     "title": ""
    }
   },
   "outputs": [],
   "source": [
    "# Apply the updated completeness check and DQ metric calculation to the dataframe\n",
    "df_processed, dq_summary = calculate_data_quality(df_policies, config_with_uniqueness)\n",
    "dq_summary"
   ]
  },
  {
   "cell_type": "code",
   "execution_count": 0,
   "metadata": {
    "application/vnd.databricks.v1+cell": {
     "cellMetadata": {
      "byteLimit": 2048000,
      "rowLimit": 10000
     },
     "inputWidgets": {},
     "nuid": "ff98abca-4055-4f10-99c5-ed32b3bbba72",
     "showTitle": false,
     "title": ""
    }
   },
   "outputs": [],
   "source": [
    "df_processed[df_processed.filter(regex='(__Validity|__Completeness|__Accuracy)$').columns]"
   ]
  }
 ],
 "metadata": {
  "application/vnd.databricks.v1+notebook": {
   "dashboards": [
    {
     "elements": [
      {
       "dashboardResultIndex": 0,
       "elementNUID": "ff98abca-4055-4f10-99c5-ed32b3bbba72",
       "elementType": "command",
       "guid": "c03a264b-b97e-4e4f-b83c-945628978dfb",
       "options": null,
       "position": {
        "height": 6,
        "width": 12,
        "x": 0,
        "y": 0,
        "z": null
       },
       "resultIndex": null
      }
     ],
     "globalVars": {},
     "guid": "",
     "layoutOption": {
      "grid": true,
      "stack": true
     },
     "nuid": "84e236ff-36a4-4ed0-965e-78e37fafe97f",
     "origId": 3646376076118948,
     "title": "Untitled",
     "version": "DashboardViewV1",
     "width": 1024
    }
   ],
   "language": "python",
   "notebookMetadata": {
    "pythonIndentUnit": 4
   },
   "notebookName": "Main",
   "widgets": {}
  }
 },
 "nbformat": 4,
 "nbformat_minor": 0
}
